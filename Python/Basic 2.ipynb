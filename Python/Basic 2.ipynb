{
 "cells": [
  {
   "cell_type": "markdown",
   "id": "26cfe96c",
   "metadata": {},
   "source": [
    "# List Comprehensions\n"
   ]
  },
  {
   "cell_type": "code",
   "execution_count": 27,
   "id": "c3b152bc",
   "metadata": {},
   "outputs": [
    {
     "name": "stdout",
     "output_type": "stream",
     "text": [
      "1\n",
      "1\n",
      "1\n",
      "2\n",
      "[[0, 0, 0], [0, 0, 1], [0, 1, 0], [1, 0, 0], [1, 1, 1]]\n"
     ]
    }
   ],
   "source": [
    "if __name__ == '__main__':\n",
    "    x = int(input())\n",
    "    y = int(input())\n",
    "    z = int(input())\n",
    "    n = int(input())\n",
    "n1=[[i,j,k] for i in range(x+1) for j in range(y+1) for k in range(z+1) if i+j+k !=n]\n",
    "print(n1)"
   ]
  },
  {
   "cell_type": "markdown",
   "id": "e9da57bb",
   "metadata": {},
   "source": [
    "# Find the Runner-Up Score!"
   ]
  },
  {
   "cell_type": "code",
   "execution_count": 55,
   "id": "b2525fb4",
   "metadata": {},
   "outputs": [
    {
     "name": "stdout",
     "output_type": "stream",
     "text": [
      "5\n",
      "5 5 5 5 -5\n",
      "-5\n"
     ]
    }
   ],
   "source": [
    "if __name__ == '__main__':\n",
    "    n = int(input())\n",
    "    arr = list(map(int, input().split()))\n",
    "m=max(arr)\n",
    "s=min(arr)\n",
    "for i in arr:\n",
    "    if s!=m and i<m:\n",
    "        if i>s:\n",
    "            s=i\n",
    "print(s)"
   ]
  },
  {
   "cell_type": "markdown",
   "id": "61acda03",
   "metadata": {},
   "source": [
    "# Nested List"
   ]
  },
  {
   "cell_type": "code",
   "execution_count": 8,
   "id": "e7997498",
   "metadata": {},
   "outputs": [
    {
     "name": "stdout",
     "output_type": "stream",
     "text": [
      "3\n",
      "sai\n",
      "2\n",
      "siva\n",
      "2.1\n",
      "satya\n",
      "2.1\n",
      "satya\n",
      "siva\n"
     ]
    }
   ],
   "source": [
    "if __name__ == '__main__':\n",
    "    records = []\n",
    "    for i in range(int(input())):\n",
    "        name = input()\n",
    "        score = float(input())\n",
    "        records.append([name, score])\n",
    "x=list()\n",
    "for i in range(0 ,len(records)):\n",
    "    x.append(records[i][1])\n",
    "s=sorted(set(x))[1]\n",
    "z=sorted(records, key=lambda y: y[0])\n",
    "for i in range(0,len(records)):\n",
    "    if z[i][1]==s:\n",
    "        print(z[i][0])"
   ]
  },
  {
   "cell_type": "markdown",
   "id": "25d016fc",
   "metadata": {},
   "source": [
    "# List"
   ]
  },
  {
   "cell_type": "code",
   "execution_count": 12,
   "id": "056316d1",
   "metadata": {},
   "outputs": [
    {
     "name": "stdout",
     "output_type": "stream",
     "text": [
      "3\n",
      "insert 2 0\n",
      "append 10\n",
      "print\n",
      "[0, 10]\n"
     ]
    }
   ],
   "source": [
    "if __name__ == '__main__':\n",
    "    N = int(input())\n",
    "    list1 = []\n",
    "    for i in range(N):\n",
    "        l = list(input().split())\n",
    "        if l[0]=='insert':\n",
    "            list1.insert(int(l[1]),int(l[2]))\n",
    "        if l[0]=='remove':\n",
    "            list1.remove(int(l[1]))\n",
    "        if l[0]=='append':\n",
    "            list1.append(int(l[1]))\n",
    "        if l[0]=='sort':\n",
    "            list1.sort()\n",
    "        if l[0]=='pop':\n",
    "            list1.pop()\n",
    "        if l[0]=='reverse':\n",
    "            list1.reverse()     \n",
    "        if l[0]=='print':\n",
    "            print(list1)"
   ]
  },
  {
   "cell_type": "markdown",
   "id": "866c6366",
   "metadata": {},
   "source": [
    "# Finding the Percentage"
   ]
  },
  {
   "cell_type": "code",
   "execution_count": 13,
   "id": "ee223a13",
   "metadata": {},
   "outputs": [
    {
     "name": "stdout",
     "output_type": "stream",
     "text": [
      "2\n",
      "sai 2 3 4\n",
      "siva 3 4 5\n",
      "siva\n",
      "4.00\n"
     ]
    }
   ],
   "source": [
    "if __name__ == '__main__':\n",
    "    n = int(input())\n",
    "    student_marks = {}\n",
    "    for _ in range(n):\n",
    "        name, *line = input().split()\n",
    "        scores = list(map(float, line))\n",
    "        student_marks[name] = scores\n",
    "    query_name = input()\n",
    "s=0\n",
    "for i in student_marks[query_name]:\n",
    "    s += i\n",
    "average = s / len(student_marks[query_name])\n",
    "print(\"%.2f\" %average)"
   ]
  },
  {
   "cell_type": "markdown",
   "id": "e02fffae",
   "metadata": {},
   "source": [
    "# Tuples"
   ]
  },
  {
   "cell_type": "code",
   "execution_count": 20,
   "id": "54932bed",
   "metadata": {},
   "outputs": [
    {
     "name": "stdout",
     "output_type": "stream",
     "text": [
      "2\n",
      "1 2\n",
      "-3550055125485641917\n"
     ]
    }
   ],
   "source": [
    "if __name__ == '__main__':\n",
    "    n = int(input())\n",
    "    integer_list = map(int, input().split())\n",
    "    print(hash(tuple(integer_list)))"
   ]
  },
  {
   "cell_type": "markdown",
   "id": "6985d0d4",
   "metadata": {},
   "source": [
    "# Introduction to Sets"
   ]
  },
  {
   "cell_type": "code",
   "execution_count": 1,
   "id": "8eb07acd",
   "metadata": {},
   "outputs": [
    {
     "name": "stdout",
     "output_type": "stream",
     "text": [
      "10\n",
      "1 2 3 2 2 1 2 1 1 8\n",
      "3.5\n"
     ]
    }
   ],
   "source": [
    "def average(array):\n",
    "    # your code goes here\n",
    "    array1=list(set(array))\n",
    "    a=sum(array1)/len(array1)\n",
    "    return a\n",
    "\n",
    "if __name__ == '__main__':\n",
    "    n = int(input())\n",
    "    arr = list(map(int, input().split()))\n",
    "    result = average(arr)\n",
    "    print(result)"
   ]
  },
  {
   "cell_type": "markdown",
   "id": "e7528cd7",
   "metadata": {},
   "source": [
    "# No Idea!"
   ]
  },
  {
   "cell_type": "code",
   "execution_count": 2,
   "id": "6be005a4",
   "metadata": {},
   "outputs": [
    {
     "name": "stdout",
     "output_type": "stream",
     "text": [
      "3 2\n",
      "1 3 5\n",
      "1 3\n",
      "5 7\n",
      "1\n"
     ]
    }
   ],
   "source": [
    "if __name__ == \"__main__\":\n",
    "    n, m = map(int, input().strip().split(' '))\n",
    "    array = list(map(int, input().strip().split(' ')))\n",
    "    \n",
    "    A = set(map(int, input().strip().split(' ')))\n",
    "    B = set(map(int, input().strip().split(' ')))\n",
    "    \n",
    "    \n",
    "    happiness = 0\n",
    "    for i in array:\n",
    "        if i in A:\n",
    "            happiness += 1\n",
    "        elif i in B:\n",
    "            happiness -= 1\n",
    "    print(happiness)\n"
   ]
  },
  {
   "cell_type": "markdown",
   "id": "e3928b08",
   "metadata": {},
   "source": [
    "# Symmetric Difference"
   ]
  },
  {
   "cell_type": "code",
   "execution_count": 5,
   "id": "a4e4a09f",
   "metadata": {},
   "outputs": [
    {
     "name": "stdout",
     "output_type": "stream",
     "text": [
      "3\n",
      "1 2 3\n",
      "4\n",
      "1 2 3 4\n",
      "4\n"
     ]
    }
   ],
   "source": [
    "if __name__ == \"__main__\":\n",
    "    M = int(input())\n",
    "    A = set(map(int, input().strip().split(' ')))\n",
    "    N = int(input())\n",
    "    B = set(map(int, input().strip().split(' ')))\n",
    "    Z = sorted(A.symmetric_difference(B))\n",
    "    for i in Z:\n",
    "        print(i)"
   ]
  },
  {
   "cell_type": "markdown",
   "id": "a12ba383",
   "metadata": {},
   "source": [
    "# Set .add()"
   ]
  },
  {
   "cell_type": "code",
   "execution_count": 6,
   "id": "bf51fb1d",
   "metadata": {},
   "outputs": [
    {
     "name": "stdout",
     "output_type": "stream",
     "text": [
      "3\n",
      "sai\n",
      "sai\n",
      "satya\n",
      "2\n"
     ]
    }
   ],
   "source": [
    "N = int(input())\n",
    "countries = set()\n",
    "for i in range(N):\n",
    "    countries.add(input())\n",
    "print(len(countries))"
   ]
  },
  {
   "cell_type": "markdown",
   "id": "0e630ebc",
   "metadata": {},
   "source": [
    "# Set .discard(), .remove() & .pop()"
   ]
  },
  {
   "cell_type": "code",
   "execution_count": 8,
   "id": "0a02dd7d",
   "metadata": {},
   "outputs": [
    {
     "name": "stdout",
     "output_type": "stream",
     "text": [
      "3\n",
      "1 2 3\n",
      "1\n",
      "pop\n",
      "5\n"
     ]
    }
   ],
   "source": [
    "n = int(input())\n",
    "set1 = set(map(int,input().split()))\n",
    "N = int(input())\n",
    "for i in range(N):\n",
    "    operation = input().split()\n",
    "    if operation[0]==\"remove\":\n",
    "        set1.remove(int(operation[1]))\n",
    "    elif operation[0]==\"discard\":\n",
    "        set1.discard(int(operation[1]))\n",
    "    else :\n",
    "        set1.pop()\n",
    "print(sum(list(set1)))"
   ]
  },
  {
   "cell_type": "markdown",
   "id": "17c9eed0",
   "metadata": {},
   "source": [
    "# Set .union()"
   ]
  },
  {
   "cell_type": "code",
   "execution_count": 9,
   "id": "4728ba2d",
   "metadata": {},
   "outputs": [
    {
     "name": "stdout",
     "output_type": "stream",
     "text": [
      "3\n",
      "1 2 3\n",
      "4\n",
      "1 2 3 4\n",
      "4\n"
     ]
    }
   ],
   "source": [
    "if __name__ == \"__main__\":\n",
    "    M = int(input())\n",
    "    A = set(map(int, input().strip().split(' ')))\n",
    "    N = int(input())\n",
    "    B = set(map(int, input().strip().split(' ')))\n",
    "    Z = A.union(B)\n",
    "    print(len(Z))"
   ]
  },
  {
   "cell_type": "markdown",
   "id": "c178e0ab",
   "metadata": {},
   "source": [
    "# Set .intersection()"
   ]
  },
  {
   "cell_type": "code",
   "execution_count": 10,
   "id": "c032ace7",
   "metadata": {},
   "outputs": [
    {
     "name": "stdout",
     "output_type": "stream",
     "text": [
      "2\n",
      "1 2\n",
      "3\n",
      "1 2 4\n",
      "2\n"
     ]
    }
   ],
   "source": [
    "if __name__ == \"__main__\":\n",
    "    M = int(input())\n",
    "    A = set(map(int, input().strip().split(' ')))\n",
    "    N = int(input())\n",
    "    B = set(map(int, input().strip().split(' ')))\n",
    "print (len(A.intersection(B)))"
   ]
  },
  {
   "cell_type": "markdown",
   "id": "ba4a3103",
   "metadata": {},
   "source": [
    "# Set .difference()"
   ]
  },
  {
   "cell_type": "code",
   "execution_count": 11,
   "id": "6d77d475",
   "metadata": {},
   "outputs": [
    {
     "name": "stdout",
     "output_type": "stream",
     "text": [
      "2\n",
      "1 2\n",
      "3\n",
      "1 4 5\n",
      "1\n"
     ]
    }
   ],
   "source": [
    "if __name__ == \"__main__\":\n",
    "    M = int(input())\n",
    "    A = set(map(int, input().strip().split(' ')))\n",
    "    N = int(input())\n",
    "    B = set(map(int, input().strip().split(' ')))\n",
    "print (len(A.difference(B)))"
   ]
  },
  {
   "cell_type": "markdown",
   "id": "0cd21b19",
   "metadata": {},
   "source": [
    "# Set .symmetric_difference()"
   ]
  },
  {
   "cell_type": "code",
   "execution_count": 12,
   "id": "0da71092",
   "metadata": {},
   "outputs": [
    {
     "name": "stdout",
     "output_type": "stream",
     "text": [
      "2\n",
      "1 2\n",
      "3\n",
      "1 2 3\n",
      "1\n"
     ]
    }
   ],
   "source": [
    "if __name__ == \"__main__\":\n",
    "    M = int(input())\n",
    "    A = set(map(int, input().strip().split(' ')))\n",
    "    N = int(input())\n",
    "    B = set(map(int, input().strip().split(' ')))\n",
    "print (len(A.symmetric_difference(B)))"
   ]
  },
  {
   "cell_type": "markdown",
   "id": "e7e8ffb4",
   "metadata": {},
   "source": [
    "# Set Mutations"
   ]
  },
  {
   "cell_type": "code",
   "execution_count": 16,
   "id": "fd0235e4",
   "metadata": {},
   "outputs": [
    {
     "name": "stdout",
     "output_type": "stream",
     "text": [
      "2\n",
      "1 2\n",
      "2\n",
      "update 2\n",
      "1 3\n",
      "update 2\n",
      "1 3\n",
      "6\n"
     ]
    }
   ],
   "source": [
    "LA =int(input())\n",
    "A =  set(map(int, input().strip().split(' ')))\n",
    "N = int(input())\n",
    "\n",
    "for i in range(0,N):\n",
    "    k = input().split()\n",
    "    ktemp = set(map(int, input().strip().split(' ')))\n",
    "    if k[0] == 'update':\n",
    "        A.update(ktemp)\n",
    "    elif k[0] == 'intersection_update':\n",
    "        A.intersection_update(ktemp)\n",
    "    elif k[0] == 'difference_update':\n",
    "        A.difference_update(ktemp)\n",
    "    elif k[0] == 'symmetric_difference_update':\n",
    "        A.symmetric_difference_update(ktemp)\n",
    "    else:\n",
    "        print ('Incorrect parameters')\n",
    "\n",
    "print (sum(A))"
   ]
  },
  {
   "cell_type": "markdown",
   "id": "546fa610",
   "metadata": {},
   "source": [
    "# The Captian's Room"
   ]
  },
  {
   "cell_type": "code",
   "execution_count": 20,
   "id": "9cf361ca",
   "metadata": {},
   "outputs": [
    {
     "name": "stdout",
     "output_type": "stream",
     "text": [
      "5\n",
      "1 2 3 6 5 4 4 2 5 3 6 1 6 5 3 2 4 1 2 5 1 4 3 6 8 4 3 1 5 6 2\n",
      "8\n"
     ]
    }
   ],
   "source": [
    "from collections import Counter\n",
    "\n",
    "n = input()\n",
    "b = input().split()\n",
    "\n",
    "k = Counter(b)\n",
    "\n",
    "d = dict(k)\n",
    "\n",
    "print (min(d, key=lambda k: d[k]))"
   ]
  },
  {
   "cell_type": "markdown",
   "id": "b751514f",
   "metadata": {},
   "source": [
    "# Check Subset"
   ]
  },
  {
   "cell_type": "code",
   "execution_count": 34,
   "id": "284f62be",
   "metadata": {},
   "outputs": [
    {
     "name": "stdout",
     "output_type": "stream",
     "text": [
      "1\n",
      "2\n",
      "1 2\n",
      "3\n",
      "1 2 3\n",
      "True\n"
     ]
    }
   ],
   "source": [
    "for i in range(int(input())):\n",
    "    a = int(input())\n",
    "    A = set(map(int, input().split()))\n",
    "    b = int(input())\n",
    "    B = set(map(int, input().split()))\n",
    "    if len(A - B) == 0:\n",
    "        print(\"True\")\n",
    "    else:\n",
    "        print(\"False\")"
   ]
  },
  {
   "cell_type": "markdown",
   "id": "2c061cfe",
   "metadata": {},
   "source": [
    "# Check Strict Superset"
   ]
  },
  {
   "cell_type": "code",
   "execution_count": 35,
   "id": "d4837ab2",
   "metadata": {},
   "outputs": [
    {
     "name": "stdout",
     "output_type": "stream",
     "text": [
      "1 2 3 4 5 6 7 8 9 10 11 12 23 45 84 78\n",
      "2\n",
      "1 2\n",
      "2 3\n",
      "True\n"
     ]
    }
   ],
   "source": [
    "A = set(map(int, input().split()))\n",
    "for i in range(int(input())):\n",
    "    X = set(map(int, input().split()))\n",
    "    if A.issuperset(X) != True or len(A) == len(X): \n",
    "        print(False)\n",
    "        break \n",
    "else: print(True)"
   ]
  },
  {
   "cell_type": "code",
   "execution_count": null,
   "id": "936235b7",
   "metadata": {},
   "outputs": [],
   "source": []
  }
 ],
 "metadata": {
  "kernelspec": {
   "display_name": "Python 3 (ipykernel)",
   "language": "python",
   "name": "python3"
  },
  "language_info": {
   "codemirror_mode": {
    "name": "ipython",
    "version": 3
   },
   "file_extension": ".py",
   "mimetype": "text/x-python",
   "name": "python",
   "nbconvert_exporter": "python",
   "pygments_lexer": "ipython3",
   "version": "3.9.7"
  }
 },
 "nbformat": 4,
 "nbformat_minor": 5
}
